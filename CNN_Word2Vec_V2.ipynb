{
 "cells": [
  {
   "cell_type": "markdown",
   "id": "362ff7cb",
   "metadata": {},
   "source": [
    "# libraries & methods import"
   ]
  },
  {
   "cell_type": "code",
   "execution_count": 2,
   "id": "f8da2a99",
   "metadata": {
    "scrolled": true
   },
   "outputs": [],
   "source": [
    "\n",
    "import re  \n",
    "import numpy as np\n",
    "import pandas as pd\n",
    "\n",
    "from sklearn.feature_extraction.text import CountVectorizer, TfidfTransformer\n",
    "\n",
    "from nltk import word_tokenize\n",
    "from nltk.corpus import PlaintextCorpusReader\n",
    "from nltk.corpus import stopwords\n",
    "#import nltk\n",
    "#nltk.download('stopwords')\n",
    "#start here\n",
    "\n",
    "#import numpy as np\n",
    "#import pandas as pd\n",
    "import matplotlib.pyplot as plt\n",
    "import seaborn as sns\n",
    "\n",
    "from sklearn.model_selection import train_test_split, GridSearchCV, KFold\n",
    "from sklearn.neighbors import KNeighborsClassifier\n",
    "from sklearn.naive_bayes import MultinomialNB\n",
    "from sklearn.svm import SVC\n",
    "from sklearn.ensemble import AdaBoostClassifier, RandomForestClassifier, GradientBoostingClassifier\n",
    "from sklearn.metrics import confusion_matrix, f1_score\n",
    "from sklearn.linear_model import LogisticRegression\n",
    "from sklearn.tree import DecisionTreeClassifier\n",
    "\n",
    "import tensorflow as tf\n",
    "from tensorflow.keras.layers import Dense, Dropout\n",
    "from tensorflow.keras.models import Sequential\n",
    "from tensorflow.keras import models, layers, utils, backend as K\n",
    "\n",
    "import os\n",
    "import time\n",
    "import torch\n",
    "import torch.nn as nn\n",
    "import torch.nn.functional as F\n",
    "from torch.nn.utils.rnn import pack_padded_sequence, pad_packed_sequence\n",
    "from torch.utils.data import TensorDataset, Dataset\n",
    "import torch.optim as optim\n",
    "from scipy import sparse\n",
    "\n",
    "from xgboost import XGBClassifier\n",
    "\n",
    "\n",
    "#end here\n",
    "\n",
    "\n"
   ]
  },
  {
   "cell_type": "markdown",
   "id": "6746be0d",
   "metadata": {},
   "source": [
    "# Preprocess Train data "
   ]
  },
  {
   "cell_type": "code",
   "execution_count": 3,
   "id": "9afb619b",
   "metadata": {},
   "outputs": [
    {
     "name": "stdout",
     "output_type": "stream",
     "text": [
      "['i', 'me', 'my', 'myself', 'we', 'our', 'ours', 'ourselves', 'you', \"you're\", \"you've\", \"you'll\", \"you'd\", 'your', 'yours', 'yourself', 'yourselves', 'he', 'him', 'his', 'himself', 'she', \"she's\", 'her', 'hers', 'herself', 'it', \"it's\", 'its', 'itself', 'they', 'them', 'their', 'theirs', 'themselves', 'what', 'which', 'who', 'whom', 'this', 'that', \"that'll\", 'these', 'those', 'am', 'is', 'are', 'was', 'were', 'be', 'been', 'being', 'have', 'has', 'had', 'having', 'do', 'does', 'did', 'doing', 'a', 'an', 'the', 'and', 'but', 'if', 'or', 'because', 'as', 'until', 'while', 'of', 'at', 'by', 'for', 'with', 'about', 'against', 'between', 'into', 'through', 'during', 'above', 'below', 'to', 'from', 'up', 'down', 'in', 'out', 'on', 'off', 'over', 'under', 'again', 'further', 'then', 'once', 'here', 'there', 'when', 'where', 'why', 'how', 'all', 'any', 'both', 'each', 'few', 'more', 'most', 'other', 'some', 'such', 'only', 'own', 'same', 'so', 'than', 'too', 'very', 's', 't', 'can', 'will', 'just', 'don', 'should', 'now', 'd', 'll', 'm', 'o', 're', 've', 'y']\n"
     ]
    }
   ],
   "source": [
    "\n",
    "# formation of a list with stopwords\n",
    "f_stopword = open(\"/Users/deepikajeena/Downloads/Smoking_status_detection_V4/stopwords.txt\")\n",
    "stopword = f_stopword.read().splitlines()\n",
    "print(stopword)\n",
    "\n",
    "# preparation of training data\n",
    "## form a list of file names stored in a folder\n",
    "folder_path = \"/Users/deepikajeena/Downloads/Smoking_status_detection_V4/data/train\"\n",
    "file_pattern = r\".*\\.txt\"\n",
    "ptb = PlaintextCorpusReader(folder_path, file_pattern)\n",
    "list_file = ptb.fileids()\n",
    "j = 0\n",
    "corpus = []\n",
    "index = [\"\" for x in range(len(list_file))]\n",
    "label = [\"\" for x in range(len(list_file))]\n",
    "new_string = []"
   ]
  },
  {
   "cell_type": "code",
   "execution_count": 2,
   "id": "5a3578c8",
   "metadata": {},
   "outputs": [
    {
     "name": "stdout",
     "output_type": "stream",
     "text": [
      "40\n",
      "40\n",
      " dh  am ed discharge summary unsigned dis report status unsigned ed discharge notificationsummary duhetlandrie mrn age registration date pm provider amine guaytreftscost preliminary report pcp notified by md yesdirect contact with pcp discharge datetime discharge status discharged condition on discharge stable patient states complaint back pain standardized discharge instructions the patient was given printed instructions for back painenglish diagnosis back pain dispositionfollow up and instructions to patient call your doctor in the morning for an appointment with the pain clinic if you have any bladder incontinencebowel incontinenceworse numbnessany weaknessor any other concernscall your doctor or return to the emergency department immediately pcp name puleshuffsaca provider number this report was created by guaytreftscostaminepm report_end \n",
      "3\n"
     ]
    }
   ],
   "source": [
    "print(len(list_file))\n",
    "#print(index[:1])\n",
    "for fn in list_file:\n",
    "    #print(fn)\n",
    "    index[j] = fn\n",
    "   # print(index[j])\n",
    "    label[j]=fn.split('.')[0].split('_')[0]\n",
    "    if label[j] == \"CURRENT SMOKER\":\n",
    "        label[j]=0\n",
    "    elif label[j] == \"NON-SMOKER\":\n",
    "        label[j]=1\n",
    "    elif label[j] == \"PAST SMOKER\":\n",
    "        label[j]=2\n",
    "    else:\n",
    "        label[j]=3\n",
    "    j = j + 1\n",
    "    \n",
    "    \n",
    "    paths_list = [line.strip() for line in open(\"/Users/deepikajeena/Downloads/Smoking_status_detection_V4/data/train/\" + fn, 'r')]\n",
    "   # print(paths_list[:]) \n",
    "    #break\n",
    "    for i in range(len(paths_list )):\n",
    "        # lowercase\n",
    "        paths_list[i] = paths_list[i].lower()\n",
    "        paths_list[i] = re.sub(r'\\W', ' ', paths_list[i])\n",
    "        # stripping a string of one or more spaces, or one or more spaces at the end of a string\n",
    "        paths_list[i] = re.sub(r'(^\\s+|\\s+$)', '', paths_list[i]) \n",
    "        # clearing a string from characters from a list\n",
    "        paths_list[i] = re.sub(r'\\[!@#$%^&*]/g', '', paths_list[i])\n",
    "         # clearing a string of numbers\n",
    "        paths_list[i] = re.sub(r'\\d', '', paths_list[i])\n",
    "        # clearing a string of dots at the beginning or end of a string\n",
    "        paths_list[i] = re.sub(r'(^| ).( |$)', '', paths_list[i])\n",
    "        #paths_list[i] = [ele for ele in paths_list[i] if ele != '']\n",
    "   # print(paths_list[:]) \n",
    "    paths_list = [ele for ele in paths_list if ele != '']\n",
    "   # print(paths_list[:]) \n",
    "    #sent_str_without_sw = [word for word in paths_list if not word in stopwords.words()]\n",
    "#print(sent_str_without_sw[:])\n",
    "    sent_str_ = \"\"\n",
    "    for i in paths_list:\n",
    "        sent_str_ += str(i) + \" \"\n",
    "   # print(sent_str_)\n",
    "    #sent_str_ = sent_str_[:-1]\n",
    "    #print(sent_str_)\n",
    "    corpus.append(sent_str_)\n",
    "    #print(corpus)\n",
    "   # print(len(corpus))\n",
    "    \n",
    "    \n",
    "   # break\n",
    "print(len(corpus))\n",
    "print(corpus[-1])\n",
    "print(label[-1])\n",
    "        \n",
    "   "
   ]
  },
  {
   "cell_type": "code",
   "execution_count": 3,
   "id": "da2aab40",
   "metadata": {},
   "outputs": [],
   "source": [
    "d = {'sentance':corpus,'label':label}\n",
    "train_data = pd.DataFrame(d)"
   ]
  },
  {
   "cell_type": "code",
   "execution_count": 4,
   "id": "4024046f",
   "metadata": {},
   "outputs": [
    {
     "data": {
      "text/html": [
       "<div>\n",
       "<style scoped>\n",
       "    .dataframe tbody tr th:only-of-type {\n",
       "        vertical-align: middle;\n",
       "    }\n",
       "\n",
       "    .dataframe tbody tr th {\n",
       "        vertical-align: top;\n",
       "    }\n",
       "\n",
       "    .dataframe thead th {\n",
       "        text-align: right;\n",
       "    }\n",
       "</style>\n",
       "<table border=\"1\" class=\"dataframe\">\n",
       "  <thead>\n",
       "    <tr style=\"text-align: right;\">\n",
       "      <th></th>\n",
       "      <th>sentance</th>\n",
       "      <th>label</th>\n",
       "    </tr>\n",
       "  </thead>\n",
       "  <tbody>\n",
       "    <tr>\n",
       "      <th>0</th>\n",
       "      <td>eh  am atypical chest pain dis admission date...</td>\n",
       "      <td>0</td>\n",
       "    </tr>\n",
       "    <tr>\n",
       "      <th>1</th>\n",
       "      <td>dh  am ob discharge summary signed dis report...</td>\n",
       "      <td>0</td>\n",
       "    </tr>\n",
       "    <tr>\n",
       "      <th>2</th>\n",
       "      <td>yc  am obstructive sleep apnea dis admission ...</td>\n",
       "      <td>0</td>\n",
       "    </tr>\n",
       "    <tr>\n",
       "      <th>3</th>\n",
       "      <td>yc  am discharge summary signed dis admission...</td>\n",
       "      <td>0</td>\n",
       "    </tr>\n",
       "    <tr>\n",
       "      <th>4</th>\n",
       "      <td>yc  am discharge summary unsigned dis admissi...</td>\n",
       "      <td>0</td>\n",
       "    </tr>\n",
       "  </tbody>\n",
       "</table>\n",
       "</div>"
      ],
      "text/plain": [
       "                                            sentance  label\n",
       "0   eh  am atypical chest pain dis admission date...      0\n",
       "1   dh  am ob discharge summary signed dis report...      0\n",
       "2   yc  am obstructive sleep apnea dis admission ...      0\n",
       "3   yc  am discharge summary signed dis admission...      0\n",
       "4   yc  am discharge summary unsigned dis admissi...      0"
      ]
     },
     "execution_count": 4,
     "metadata": {},
     "output_type": "execute_result"
    }
   ],
   "source": [
    "train_data.head()"
   ]
  },
  {
   "cell_type": "code",
   "execution_count": 5,
   "id": "b10dc4e0",
   "metadata": {},
   "outputs": [
    {
     "data": {
      "text/html": [
       "<div>\n",
       "<style scoped>\n",
       "    .dataframe tbody tr th:only-of-type {\n",
       "        vertical-align: middle;\n",
       "    }\n",
       "\n",
       "    .dataframe tbody tr th {\n",
       "        vertical-align: top;\n",
       "    }\n",
       "\n",
       "    .dataframe thead th {\n",
       "        text-align: right;\n",
       "    }\n",
       "</style>\n",
       "<table border=\"1\" class=\"dataframe\">\n",
       "  <thead>\n",
       "    <tr style=\"text-align: right;\">\n",
       "      <th></th>\n",
       "      <th>sentance</th>\n",
       "      <th>label</th>\n",
       "    </tr>\n",
       "  </thead>\n",
       "  <tbody>\n",
       "    <tr>\n",
       "      <th>35</th>\n",
       "      <td>dh  am ob discharge summary signed dis report...</td>\n",
       "      <td>3</td>\n",
       "    </tr>\n",
       "    <tr>\n",
       "      <th>36</th>\n",
       "      <td>dh  am discharge summary unsigned dis report ...</td>\n",
       "      <td>3</td>\n",
       "    </tr>\n",
       "    <tr>\n",
       "      <th>37</th>\n",
       "      <td>dh  am ed discharge summary unsigned dis repo...</td>\n",
       "      <td>3</td>\n",
       "    </tr>\n",
       "    <tr>\n",
       "      <th>38</th>\n",
       "      <td>dh  am ob discharge summary signed dis report...</td>\n",
       "      <td>3</td>\n",
       "    </tr>\n",
       "    <tr>\n",
       "      <th>39</th>\n",
       "      <td>dh  am ed discharge summary unsigned dis repo...</td>\n",
       "      <td>3</td>\n",
       "    </tr>\n",
       "  </tbody>\n",
       "</table>\n",
       "</div>"
      ],
      "text/plain": [
       "                                             sentance  label\n",
       "35   dh  am ob discharge summary signed dis report...      3\n",
       "36   dh  am discharge summary unsigned dis report ...      3\n",
       "37   dh  am ed discharge summary unsigned dis repo...      3\n",
       "38   dh  am ob discharge summary signed dis report...      3\n",
       "39   dh  am ed discharge summary unsigned dis repo...      3"
      ]
     },
     "execution_count": 5,
     "metadata": {},
     "output_type": "execute_result"
    }
   ],
   "source": [
    "train_data.tail()"
   ]
  },
  {
   "cell_type": "code",
   "execution_count": 6,
   "id": "ddb4d6f7",
   "metadata": {},
   "outputs": [
    {
     "data": {
      "text/plain": [
       "(40, 2)"
      ]
     },
     "execution_count": 6,
     "metadata": {},
     "output_type": "execute_result"
    }
   ],
   "source": [
    "train_data.shape"
   ]
  },
  {
   "cell_type": "markdown",
   "id": "a121d971",
   "metadata": {},
   "source": [
    "# Preprocess Test data "
   ]
  },
  {
   "cell_type": "code",
   "execution_count": 7,
   "id": "65e52d34",
   "metadata": {},
   "outputs": [],
   "source": [
    "# preparation of training data\n",
    "## form a list of file names stored in a folder\n",
    "folder_path = \"/Users/deepikajeena/Downloads/Smoking_status_detection_V4/data/test\"\n",
    "file_pattern = r\".*\\.txt\"\n",
    "ptb = PlaintextCorpusReader(folder_path, file_pattern)\n",
    "list_file = ptb.fileids()\n",
    "j = 0\n",
    "corpus = []\n",
    "index = [\"\" for x in range(len(list_file))]\n",
    "label = [\"\" for x in range(len(list_file))]\n",
    "new_string = []"
   ]
  },
  {
   "cell_type": "code",
   "execution_count": 8,
   "id": "61045068",
   "metadata": {},
   "outputs": [
    {
     "name": "stdout",
     "output_type": "stream",
     "text": [
      "40\n",
      "40\n",
      " dh  am ed discharge summary unsigned dis report status unsigned ed discharge notificationsummary wierstkerthri mrn age registration date pm provider biri weertluc preliminary report pcp notified by md noother explanation benefits assigned discharge datetime discharge status discharged condition on discharge stable patient states complaint cp standardized discharge instructions the patient was given printed instructions for abdominal painenglish diagnosis epigastric discomfort treatment rendered medical evaluation your sgpt is sgot is  yourayekgand other laboratories are normal discharge medications none dispositionfollow up and instructions to patient followup with your primary care physician in monday for repeat liver function testing you may need an abdominal ultrasound as an outpatient return immediately for increasing abdominal painchest painshortness of breathor otherwise feeling worse acceptingdh admitting physician mao tho pcp name swankemandesskiaissantcinet provider number this report was created by weertlucbiriam report_end \n",
      "3\n"
     ]
    }
   ],
   "source": [
    "print(len(list_file))\n",
    "#print(index[:1])\n",
    "for fn in list_file:\n",
    "    #print(fn)\n",
    "    index[j] = fn\n",
    "   # print(index[j])\n",
    "    label[j]=fn.split('.')[0].split('_')[0]\n",
    "    if label[j] == \"CURRENT SMOKER\":\n",
    "        label[j]=0\n",
    "    elif label[j] == \"NON-SMOKER\":\n",
    "        label[j]=1\n",
    "    elif label[j] == \"PAST SMOKER\":\n",
    "        label[j]=2\n",
    "    else:\n",
    "        label[j]=3\n",
    "    j = j + 1\n",
    "    \n",
    "    \n",
    "    paths_list = [line.strip() for line in open(\"/Users/deepikajeena/Downloads/Smoking_status_detection_V4/data/test/\" + fn, 'r')]\n",
    "   # print(paths_list[:]) \n",
    "    #break\n",
    "    for i in range(len(paths_list )):\n",
    "        # lowercase\n",
    "        paths_list[i] = paths_list[i].lower()\n",
    "        paths_list[i] = re.sub(r'\\W', ' ', paths_list[i])\n",
    "        # stripping a string of one or more spaces, or one or more spaces at the end of a string\n",
    "        paths_list[i] = re.sub(r'(^\\s+|\\s+$)', '', paths_list[i]) \n",
    "        # clearing a string from characters from a list\n",
    "        paths_list[i] = re.sub(r'\\[!@#$%^&*]/g', '', paths_list[i])\n",
    "         # clearing a string of numbers\n",
    "        paths_list[i] = re.sub(r'\\d', '', paths_list[i])\n",
    "        # clearing a string of dots at the beginning or end of a string\n",
    "        paths_list[i] = re.sub(r'(^| ).( |$)', '', paths_list[i])\n",
    "        #paths_list[i] = [ele for ele in paths_list[i] if ele != '']\n",
    "   # print(paths_list[:]) \n",
    "    paths_list = [ele for ele in paths_list if ele != '']\n",
    "   # print(paths_list[:]) \n",
    "    #sent_str_without_sw = [word for word in paths_list if not word in stopwords.words()]\n",
    "#print(sent_str_without_sw[:])\n",
    "    sent_str_ = \"\"\n",
    "    for i in paths_list:\n",
    "        sent_str_ += str(i) + \" \"\n",
    "   # print(sent_str_)\n",
    "    #sent_str_ = sent_str_[:-1]\n",
    "    #print(sent_str_)\n",
    "    corpus.append(sent_str_)\n",
    "    #print(corpus)\n",
    "   # print(len(corpus))\n",
    "    \n",
    "    \n",
    "   # break\n",
    "print(len(corpus))\n",
    "print(corpus[-1])\n",
    "print(label[-1])\n",
    "        \n",
    "   "
   ]
  },
  {
   "cell_type": "code",
   "execution_count": 9,
   "id": "e7396891",
   "metadata": {},
   "outputs": [],
   "source": [
    "d1 = {'sentance':corpus}\n",
    "test_data = pd.DataFrame(d1)"
   ]
  },
  {
   "cell_type": "code",
   "execution_count": 10,
   "id": "44e34daa",
   "metadata": {},
   "outputs": [
    {
     "data": {
      "text/html": [
       "<div>\n",
       "<style scoped>\n",
       "    .dataframe tbody tr th:only-of-type {\n",
       "        vertical-align: middle;\n",
       "    }\n",
       "\n",
       "    .dataframe tbody tr th {\n",
       "        vertical-align: top;\n",
       "    }\n",
       "\n",
       "    .dataframe thead th {\n",
       "        text-align: right;\n",
       "    }\n",
       "</style>\n",
       "<table border=\"1\" class=\"dataframe\">\n",
       "  <thead>\n",
       "    <tr style=\"text-align: right;\">\n",
       "      <th></th>\n",
       "      <th>sentance</th>\n",
       "    </tr>\n",
       "  </thead>\n",
       "  <tbody>\n",
       "    <tr>\n",
       "      <th>0</th>\n",
       "      <td>fih  ym  am hypopharyngeal cancer unsigned dis...</td>\n",
       "    </tr>\n",
       "    <tr>\n",
       "      <th>1</th>\n",
       "      <td>fih  am coronary artery disease unsigned dis r...</td>\n",
       "    </tr>\n",
       "    <tr>\n",
       "      <th>2</th>\n",
       "      <td>sc  am atypical chest pain dis admission date...</td>\n",
       "    </tr>\n",
       "    <tr>\n",
       "      <th>3</th>\n",
       "      <td>fih  xo  am discharge summary unsigned dis rep...</td>\n",
       "    </tr>\n",
       "    <tr>\n",
       "      <th>4</th>\n",
       "      <td>elmvh  am tia dis admission date report statu...</td>\n",
       "    </tr>\n",
       "  </tbody>\n",
       "</table>\n",
       "</div>"
      ],
      "text/plain": [
       "                                            sentance\n",
       "0  fih  ym  am hypopharyngeal cancer unsigned dis...\n",
       "1  fih  am coronary artery disease unsigned dis r...\n",
       "2   sc  am atypical chest pain dis admission date...\n",
       "3  fih  xo  am discharge summary unsigned dis rep...\n",
       "4   elmvh  am tia dis admission date report statu..."
      ]
     },
     "execution_count": 10,
     "metadata": {},
     "output_type": "execute_result"
    }
   ],
   "source": [
    "test_data.head()"
   ]
  },
  {
   "cell_type": "code",
   "execution_count": 11,
   "id": "241bc10c",
   "metadata": {},
   "outputs": [
    {
     "name": "stdout",
     "output_type": "stream",
     "text": [
      "(40, 2) (40, 1)\n"
     ]
    }
   ],
   "source": [
    "print(train_data.shape,test_data.shape)"
   ]
  },
  {
   "cell_type": "markdown",
   "id": "02b079c4",
   "metadata": {},
   "source": [
    "# Split the Training Data into Train and Validation set"
   ]
  },
  {
   "cell_type": "code",
   "execution_count": 12,
   "id": "d13a80bc",
   "metadata": {},
   "outputs": [],
   "source": [
    "val_data=train_data.sample(frac=0.2,random_state=200)\n",
    "train_data=train_data.drop(val_data.index)"
   ]
  },
  {
   "cell_type": "markdown",
   "id": "ab75fa20",
   "metadata": {},
   "source": [
    "# Tokenize text of the training data with keras text preprocessing functions"
   ]
  },
  {
   "cell_type": "code",
   "execution_count": 14,
   "id": "55d71d1f",
   "metadata": {},
   "outputs": [],
   "source": [
    "from keras.preprocessing.text import Tokenizer\n",
    "#from keras.preprocessing.sequence import pad_sequences\n",
    "from keras_preprocessing.sequence import pad_sequences\n",
    "from keras.utils import to_categorical"
   ]
  },
  {
   "cell_type": "code",
   "execution_count": 17,
   "id": "68fffa1e",
   "metadata": {},
   "outputs": [],
   "source": [
    "texts=train_data.sentance\n",
    "val_texts=val_data.sentance"
   ]
  },
  {
   "cell_type": "code",
   "execution_count": 19,
   "id": "876a1797",
   "metadata": {},
   "outputs": [
    {
     "name": "stdout",
     "output_type": "stream",
     "text": [
      "Found 2540 unique tokens.\n"
     ]
    }
   ],
   "source": [
    "NUM_WORDS=20000\n",
    "tokenizer = Tokenizer(num_words=NUM_WORDS,filters='!\"#$%&()*+,-./:;<=>?@[\\\\]^_`{|}~\\t\\n\\'',\n",
    "                      lower=True)\n",
    "tokenizer.fit_on_texts(texts)\n",
    "sequences_train = tokenizer.texts_to_sequences(texts)\n",
    "sequences_valid=tokenizer.texts_to_sequences(val_texts)\n",
    "word_index = tokenizer.word_index\n",
    "print('Found %s unique tokens.' % len(word_index))"
   ]
  },
  {
   "cell_type": "code",
   "execution_count": 20,
   "id": "44fb6b44",
   "metadata": {},
   "outputs": [
    {
     "name": "stdout",
     "output_type": "stream",
     "text": [
      "Shape of X train and X validation tensor: (32, 569) (8, 569)\n",
      "Shape of label train and validation tensor: (32,) (8,)\n"
     ]
    }
   ],
   "source": [
    "X_train = pad_sequences(sequences_train)\n",
    "X_val = pad_sequences(sequences_valid,maxlen=X_train.shape[1])\n",
    "y_train = train_data['label'].values\n",
    "y_val = val_data['label'].values\n",
    "print('Shape of X train and X validation tensor:', X_train.shape,X_val.shape)\n",
    "print('Shape of label train and validation tensor:', y_train.shape,y_val.shape)\n",
    "\n"
   ]
  },
  {
   "cell_type": "markdown",
   "id": "99754427",
   "metadata": {},
   "source": [
    "# word embedding\n",
    "lets load the pretrain Word2Vec model from Google https://drive.google.com/file/d/0B7XkCwpI5KDYNlNUTTlSS21pQmM/edit\n",
    "It might take time since it contains contains 300-dimensional vectors for 3 million words and phrases"
   ]
  },
  {
   "cell_type": "code",
   "execution_count": 21,
   "id": "25ae173b",
   "metadata": {},
   "outputs": [],
   "source": [
    "import gensim\n",
    "from gensim.models import Word2Vec\n",
    "from gensim.utils import simple_preprocess"
   ]
  },
  {
   "cell_type": "code",
   "execution_count": 22,
   "id": "e15809f0",
   "metadata": {},
   "outputs": [],
   "source": [
    "from gensim.models.keyedvectors import KeyedVectors\n",
    "\n",
    "word_vectors = KeyedVectors.load_word2vec_format('/Users/deepikajeena/Downloads/Smoking_status_detection_V4/data/GoogleNews-vectors-negative300.bin', binary=True)\n",
    "\n"
   ]
  },
  {
   "cell_type": "code",
   "execution_count": 23,
   "id": "74c41b8a",
   "metadata": {},
   "outputs": [],
   "source": [
    "EMBEDDING_DIM=300\n",
    "vocabulary_size=min(len(word_index)+1,NUM_WORDS)\n",
    "embedding_matrix = np.zeros((vocabulary_size, EMBEDDING_DIM))\n",
    "for word, i in word_index.items():\n",
    "    if i>=NUM_WORDS:\n",
    "        continue\n",
    "    try:\n",
    "        embedding_vector = word_vectors[word]\n",
    "        embedding_matrix[i] = embedding_vector\n",
    "    except KeyError:\n",
    "        embedding_matrix[i]=np.random.normal(0,np.sqrt(0.25),EMBEDDING_DIM)\n",
    "\n",
    "del(word_vectors)\n",
    "\n",
    "from keras.layers import Embedding\n",
    "embedding_layer = Embedding(vocabulary_size,\n",
    "                            EMBEDDING_DIM,\n",
    "                            weights=[embedding_matrix],\n",
    "                            trainable=True)"
   ]
  },
  {
   "cell_type": "code",
   "execution_count": 179,
   "id": "811d81f4",
   "metadata": {},
   "outputs": [],
   "source": [
    "import matplotlib.pyplot as plt\n",
    "plt.style.use('ggplot')\n",
    "\n",
    "def plot_history(history):\n",
    "    acc = history.history['accuracy']\n",
    "    val_acc = history.history['val_accuracy']\n",
    "    loss = history.history['loss']\n",
    "    val_loss = history.history['val_loss']\n",
    "    x = range(1, len(acc) + 1)\n",
    "\n",
    "    plt.figure(figsize=(12, 5))\n",
    "    plt.subplot(1, 2, 1)\n",
    "    plt.plot(x, acc, 'b', label='Training acc')\n",
    "    plt.plot(x, val_acc, 'r', label='Testing acc')\n",
    "    plt.title('Training and Testing accuracy')\n",
    "    plt.legend()\n",
    "    plt.subplot(1, 2, 2)\n",
    "    plt.plot(x, loss, 'b', label='Training loss')\n",
    "    plt.plot(x, val_loss, 'r', label='Testing loss')\n",
    "    plt.title('Training and Testing loss')\n",
    "    plt.legend()"
   ]
  },
  {
   "cell_type": "markdown",
   "id": "c8261ae1",
   "metadata": {},
   "source": [
    "# Create the CNN network and trai"
   ]
  },
  {
   "cell_type": "code",
   "execution_count": null,
   "id": "650846cf",
   "metadata": {},
   "outputs": [],
   "source": [
    "#Lets create the network and train it as long as validation loss goes down"
   ]
  },
  {
   "cell_type": "code",
   "execution_count": 208,
   "id": "51c37a22",
   "metadata": {},
   "outputs": [
    {
     "name": "stdout",
     "output_type": "stream",
     "text": [
      "Model: \"sequential_74\"\n",
      "_________________________________________________________________\n",
      " Layer (type)                Output Shape              Param #   \n",
      "=================================================================\n",
      " embedding_75 (Embedding)    (None, None, 300)         762300    \n",
      "                                                                 \n",
      " conv1d_146 (Conv1D)         (None, None, 128)         268928    \n",
      "                                                                 \n",
      " max_pooling1d_72 (MaxPoolin  (None, None, 128)        0         \n",
      " g1D)                                                            \n",
      "                                                                 \n",
      " conv1d_147 (Conv1D)         (None, None, 128)         114816    \n",
      "                                                                 \n",
      " global_max_pooling1d_74 (Gl  (None, 128)              0         \n",
      " obalMaxPooling1D)                                               \n",
      "                                                                 \n",
      " dense_148 (Dense)           (None, 64)                8256      \n",
      "                                                                 \n",
      " dropout_74 (Dropout)        (None, 64)                0         \n",
      "                                                                 \n",
      " dense_149 (Dense)           (None, 4)                 260       \n",
      "                                                                 \n",
      " flatten_74 (Flatten)        (None, 4)                 0         \n",
      "                                                                 \n",
      "=================================================================\n",
      "Total params: 1,154,560\n",
      "Trainable params: 1,154,560\n",
      "Non-trainable params: 0\n",
      "_________________________________________________________________\n"
     ]
    }
   ],
   "source": [
    "#from keras.models import Sequential\n",
    "from keras import layers\n",
    "\n",
    "#start here\n",
    "from keras.models import Sequential\n",
    "from keras.layers import Dense, Activation, Input, LSTM, Embedding, Dropout, GRU, Bidirectional\n",
    "from keras.layers import Flatten, Conv1D, MaxPooling1D, GlobalMaxPooling1D\n",
    "from keras import regularizers\n",
    "#from keras.layers.normalization import BatchNormalization\n",
    "from keras.models import Model\n",
    "from keras import metrics\n",
    "from keras.callbacks import EarlyStopping\n",
    "from keras.optimizers import Adam\n",
    "\n",
    "#end here\n",
    "\n",
    "\n",
    "embedding_dim = 300\n",
    "optm = Adam(lr=0.001, beta_1=0.9, beta_2=0.999, epsilon=1e-08, decay=0.0)\n",
    "\n",
    "model = Sequential()\n",
    "model.add(layers.Embedding(vocabulary_size,\n",
    "                            embedding_dim,\n",
    "                            weights=[embedding_matrix],\n",
    "                            trainable=True))\n",
    "#model.add(layers.Embedding(vocab_size, embedding_dim, input_length=maxlen))\n",
    "#model.add(layers.Conv1D(128, 5, activation='relu'))\n",
    "model.add(Conv1D(128, 7, activation='relu', padding='same'))\n",
    "model.add(MaxPooling1D(2))\n",
    "model.add(Conv1D(128, 7, activation='relu', padding='same'))\n",
    "model.add(GlobalMaxPooling1D())\n",
    "#model.add(Dense(64, activation='relu'))\n",
    "model.add(Dense(64, activation='relu', kernel_regularizer=regularizers.l2(1e-4)))\n",
    "model.add(Dropout(0.25))\n",
    "model.add(layers.Dense(4, activation='softmax'))\n",
    "model.add(Flatten())\n",
    "model.compile(optimizer=optm,\n",
    "              loss='binary_crossentropy',\n",
    "              metrics=['accuracy'])\n",
    "model.summary()"
   ]
  },
  {
   "cell_type": "code",
   "execution_count": 209,
   "id": "e5cbe76f",
   "metadata": {},
   "outputs": [
    {
     "name": "stderr",
     "output_type": "stream",
     "text": [
      "2022-12-03 12:38:43.154999: I tensorflow/core/grappler/optimizers/custom_graph_optimizer_registry.cc:113] Plugin optimizer for device_type GPU is enabled.\n",
      "2022-12-03 12:38:46.622554: I tensorflow/core/grappler/optimizers/custom_graph_optimizer_registry.cc:113] Plugin optimizer for device_type GPU is enabled.\n",
      "2022-12-03 12:38:50.697483: I tensorflow/core/grappler/optimizers/custom_graph_optimizer_registry.cc:113] Plugin optimizer for device_type GPU is enabled.\n"
     ]
    },
    {
     "name": "stdout",
     "output_type": "stream",
     "text": [
      "Training Accuracy: 0.3438\n",
      "Testing Accuracy:  0.5000\n"
     ]
    },
    {
     "data": {
      "image/png": "[encoded data removed]",
      "text/plain": [
       "<Figure size 1200x500 with 2 Axes>"
      ]
     },
     "metadata": {},
     "output_type": "display_data"
    }
   ],
   "source": [
    "history = model.fit(X_train, y_train,\n",
    "                    epochs=10,\n",
    "                    verbose=False,\n",
    "                    validation_data=(X_val, y_val),\n",
    "                    batch_size=8)\n",
    "loss, accuracy = model.evaluate(X_train, y_train, verbose=False)\n",
    "print(\"Training Accuracy: {:.4f}\".format(accuracy))\n",
    "loss, accuracy = model.evaluate(X_val, y_val, verbose=False)\n",
    "print(\"Testing Accuracy:  {:.4f}\".format(accuracy))\n",
    "plot_history(history)"
   ]
  },
  {
   "cell_type": "code",
   "execution_count": null,
   "id": "d5bc669b",
   "metadata": {},
   "outputs": [],
   "source": []
  },
  {
   "cell_type": "code",
   "execution_count": null,
   "id": "0dc1daa1",
   "metadata": {},
   "outputs": [],
   "source": []
  },
  {
   "cell_type": "code",
   "execution_count": null,
   "id": "1fca4e22",
   "metadata": {},
   "outputs": [],
   "source": []
  },
  {
   "cell_type": "code",
   "execution_count": null,
   "id": "13374017",
   "metadata": {},
   "outputs": [],
   "source": []
  },
  {
   "cell_type": "code",
   "execution_count": null,
   "id": "49af25d2",
   "metadata": {},
   "outputs": [],
   "source": []
  },
  {
   "cell_type": "code",
   "execution_count": null,
   "id": "b42b6e24",
   "metadata": {},
   "outputs": [],
   "source": []
  },
  {
   "cell_type": "code",
   "execution_count": null,
   "id": "0300cb06",
   "metadata": {},
   "outputs": [],
   "source": []
  },
  {
   "cell_type": "code",
   "execution_count": null,
   "id": "eab41107",
   "metadata": {},
   "outputs": [],
   "source": []
  },
  {
   "cell_type": "code",
   "execution_count": null,
   "id": "5bd581a1",
   "metadata": {},
   "outputs": [],
   "source": []
  },
  {
   "cell_type": "code",
   "execution_count": null,
   "id": "0e489da8",
   "metadata": {},
   "outputs": [],
   "source": []
  },
  {
   "cell_type": "code",
   "execution_count": null,
   "id": "48f02527",
   "metadata": {},
   "outputs": [],
   "source": []
  },
  {
   "cell_type": "code",
   "execution_count": null,
   "id": "ceaa5276",
   "metadata": {},
   "outputs": [],
   "source": []
  },
  {
   "cell_type": "code",
   "execution_count": null,
   "id": "c7e98383",
   "metadata": {},
   "outputs": [],
   "source": []
  },
  {
   "cell_type": "code",
   "execution_count": null,
   "id": "d0dcee30",
   "metadata": {},
   "outputs": [],
   "source": []
  },
  {
   "cell_type": "code",
   "execution_count": null,
   "id": "b7266e7f",
   "metadata": {},
   "outputs": [],
   "source": []
  },
  {
   "cell_type": "code",
   "execution_count": null,
   "id": "95032eb5",
   "metadata": {},
   "outputs": [],
   "source": []
  },
  {
   "cell_type": "code",
   "execution_count": null,
   "id": "b0959fb8",
   "metadata": {},
   "outputs": [],
   "source": []
  },
  {
   "cell_type": "code",
   "execution_count": null,
   "id": "23535db6",
   "metadata": {},
   "outputs": [],
   "source": []
  },
  {
   "cell_type": "code",
   "execution_count": null,
   "id": "f8a54dd4",
   "metadata": {},
   "outputs": [],
   "source": []
  },
  {
   "cell_type": "code",
   "execution_count": null,
   "id": "fa26ca75",
   "metadata": {},
   "outputs": [],
   "source": []
  },
  {
   "cell_type": "code",
   "execution_count": null,
   "id": "dd4f9db2",
   "metadata": {},
   "outputs": [],
   "source": []
  },
  {
   "cell_type": "code",
   "execution_count": null,
   "id": "babc0d6d",
   "metadata": {},
   "outputs": [],
   "source": []
  },
  {
   "cell_type": "code",
   "execution_count": null,
   "id": "bb86b85d",
   "metadata": {},
   "outputs": [],
   "source": []
  },
  {
   "cell_type": "code",
   "execution_count": null,
   "id": "78fae6d2",
   "metadata": {},
   "outputs": [],
   "source": []
  },
  {
   "cell_type": "code",
   "execution_count": null,
   "id": "cbb48f35",
   "metadata": {},
   "outputs": [],
   "source": []
  },
  {
   "cell_type": "code",
   "execution_count": null,
   "id": "314011a6",
   "metadata": {},
   "outputs": [],
   "source": []
  },
  {
   "cell_type": "code",
   "execution_count": null,
   "id": "77f4b6d9",
   "metadata": {},
   "outputs": [],
   "source": []
  },
  {
   "cell_type": "code",
   "execution_count": null,
   "id": "b895f9fb",
   "metadata": {},
   "outputs": [],
   "source": []
  }
 ],
 "metadata": {
  "kernelspec": {
   "display_name": "env_tf",
   "language": "python",
   "name": "env_tf"
  },
  "language_info": {
   "codemirror_mode": {
    "name": "ipython",
    "version": 3
   },
   "file_extension": ".py",
   "mimetype": "text/x-python",
   "name": "python",
   "nbconvert_exporter": "python",
   "pygments_lexer": "ipython3",
   "version": "3.9.15"
  }
 },
 "nbformat": 4,
 "nbformat_minor": 5
}
